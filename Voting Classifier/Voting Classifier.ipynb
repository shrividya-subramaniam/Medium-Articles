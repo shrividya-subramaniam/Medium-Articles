{
 "cells": [
  {
   "cell_type": "markdown",
   "metadata": {},
   "source": [
    "# Wine Classification using Voting Classifier"
   ]
  },
  {
   "cell_type": "code",
   "execution_count": 1,
   "metadata": {},
   "outputs": [],
   "source": [
    "# Import Libraries\n",
    "import numpy as np\n",
    "from sklearn import datasets\n",
    "from sklearn import model_selection\n",
    "from sklearn.model_selection import cross_val_score\n",
    "from sklearn.pipeline import make_pipeline\n",
    "from sklearn.preprocessing import StandardScaler\n",
    "from sklearn.linear_model import LogisticRegression\n",
    "from sklearn.svm import SVC\n",
    "from sklearn.ensemble import RandomForestClassifier, VotingClassifier"
   ]
  },
  {
   "cell_type": "code",
   "execution_count": 2,
   "metadata": {},
   "outputs": [],
   "source": [
    "# Import wine dataset\n",
    "from sklearn.datasets import load_wine\n",
    "wine = load_wine()"
   ]
  },
  {
   "cell_type": "code",
   "execution_count": 3,
   "metadata": {},
   "outputs": [],
   "source": [
    "# Split dataset into X and y\n",
    "X = pd.DataFrame(wine.data)\n",
    "y = wine.target"
   ]
  },
  {
   "cell_type": "code",
   "execution_count": 4,
   "metadata": {},
   "outputs": [
    {
     "name": "stdout",
     "output_type": "stream",
     "text": [
      "Logistic Regression Accuracy: 0.9832 ± 0.0137\n",
      "Support Vector Machine Accuracy: 0.9606 ± 0.0139\n",
      "Random Forest Accuracy: 0.9721 ± 0.0176\n"
     ]
    }
   ],
   "source": [
    "# Create individual classifiers\n",
    "lr = make_pipeline(StandardScaler(), LogisticRegression(random_state=42))\n",
    "p_svc = make_pipeline(StandardScaler(), SVC(kernel='linear', probability=True, random_state=42)) # SVC for Soft Voting Classifier\n",
    "svc = make_pipeline(StandardScaler(), SVC(kernel='linear', random_state=42))\n",
    "rf = RandomForestClassifier()\n",
    "\n",
    "models = [('Logistic Regression', lr), \n",
    "          ('Support Vector Machine', svc), \n",
    "          ('Random Forest', rf)]\n",
    "\n",
    "# Perform cross-validation to evaluate performance of each model\n",
    "for name, model in models:\n",
    "    scores = cross_val_score(model, X, y, cv=5, scoring='accuracy')\n",
    "    print(f'{name} Accuracy: {scores.mean():.4f} ± {scores.std():.4f}')"
   ]
  },
  {
   "cell_type": "code",
   "execution_count": 5,
   "metadata": {},
   "outputs": [
    {
     "name": "stdout",
     "output_type": "stream",
     "text": [
      "Hard Voting Classifier Accuracy: 0.9776 ± 0.0208\n"
     ]
    }
   ],
   "source": [
    "# Build hard voting classifier \n",
    "voting_clf_hard = VotingClassifier(estimators=[\n",
    "    ('lr', lr), ('svc', svc), ('rf', rf)], voting='hard')\n",
    "\n",
    "# Perform cross-validation to evaluate performance of hard voting classifier\n",
    "hard_voting_scores = cross_val_score(voting_clf_hard, X, y, cv=5, scoring='accuracy')\n",
    "print(f'Hard Voting Classifier Accuracy: {np.mean(hard_voting_scores):.4f} ± {np.std(hard_voting_scores):.4f}')"
   ]
  },
  {
   "cell_type": "code",
   "execution_count": 6,
   "metadata": {},
   "outputs": [
    {
     "name": "stdout",
     "output_type": "stream",
     "text": [
      "Soft Voting Classifier Accuracy: 0.9833 ± 0.0222\n"
     ]
    }
   ],
   "source": [
    "# Build soft voting classifier\n",
    "voting_clf_soft = VotingClassifier(estimators=[\n",
    "    ('lr', lr), ('svc', p_svc), ('rf', rf)], voting='soft')\n",
    "\n",
    "# Perform cross-validation to evaluate performance of soft voting classifier\n",
    "soft_voting_scores = cross_val_score(voting_clf_soft, X, y, cv=5, scoring='accuracy')\n",
    "print(f'Soft Voting Classifier Accuracy: {np.mean(soft_voting_scores):.4f} ± {np.std(soft_voting_scores):.4f}')"
   ]
  }
 ],
 "metadata": {
  "kernelspec": {
   "display_name": "base",
   "language": "python",
   "name": "python3"
  },
  "language_info": {
   "codemirror_mode": {
    "name": "ipython",
    "version": 3
   },
   "file_extension": ".py",
   "mimetype": "text/x-python",
   "name": "python",
   "nbconvert_exporter": "python",
   "pygments_lexer": "ipython3",
   "version": "3.11.7"
  }
 },
 "nbformat": 4,
 "nbformat_minor": 2
}
